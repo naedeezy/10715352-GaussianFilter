{
 "cells": [
  {
   "cell_type": "markdown",
   "metadata": {},
   "source": [
    "# Implementation of Gaussian Filter"
   ]
  },
  {
   "cell_type": "markdown",
   "metadata": {},
   "source": [
    "### Please run in a Python IDE if the code doesnt not respond. My apologies"
   ]
  },
  {
   "cell_type": "code",
   "execution_count": 4,
   "metadata": {},
   "outputs": [],
   "source": [
    "import cv2\n",
    "import numpy as np\n",
    "from PIL import Image"
   ]
  },
  {
   "cell_type": "code",
   "execution_count": 5,
   "metadata": {},
   "outputs": [],
   "source": [
    "#This function iterates over the values of each pixel and copies it into a matrix\n",
    "def conv_transform(image):\n",
    "    image_copy=image.copy()\n",
    "    \n",
    "    for i in range(image.shape[0]):\n",
    "        for j in range(image.shape[1]):\n",
    "            image_copy[i][j]=image[image.shape[0]-i-1][image.shape[1]-j-1]\n",
    "    return image_copy"
   ]
  },
  {
   "cell_type": "code",
   "execution_count": 13,
   "metadata": {},
   "outputs": [
    {
     "data": {
      "text/plain": [
       "13"
      ]
     },
     "execution_count": 13,
     "metadata": {},
     "output_type": "execute_result"
    }
   ],
   "source": [
    "#Here we see the pixels transformed\n",
    "ab=cv2.imread(\"lambo.jpg\")\n",
    "cv2.imshow(\"hee\", ab)\n",
    "cv2.waitKey(0)"
   ]
  },
  {
   "cell_type": "code",
   "execution_count": 6,
   "metadata": {},
   "outputs": [],
   "source": [
    "#This is where we convolute the image matrix with the kernel matrix\n",
    "def conv(image, kernel):\n",
    "    kernel=conv_transform(kernel)\n",
    "    image_h=image.shape[0]\n",
    "    image_w=image.shape[1]\n",
    "    \n",
    "    kernel_h=kernel.shape[0]\n",
    "    kernel_w=kernel.shape[1]\n",
    "    \n",
    "    h=kernel_h//2\n",
    "    w=kernel_w//2\n",
    "    \n",
    "    image_conv=np.zeros(image.shape)\n",
    "    \n",
    "    for i in range(h, image_h-h):\n",
    "        for j in range(w, image_w-w):\n",
    "            sum=0\n",
    "            \n",
    "            for m in range(kernel_h):\n",
    "                for n in range(kernel_w):\n",
    "                    sum=sum+kernel[m][n]*image[i-h+m][j-w+n]\n",
    "                    \n",
    "            image_conv[i][j]=sum\n",
    "            \n",
    "    return image_conv"
   ]
  },
  {
   "cell_type": "code",
   "execution_count": 7,
   "metadata": {},
   "outputs": [],
   "source": [
    "#This cell implements the convoluted image with the Gaussian function to produce the blurred image\n",
    "def GaussianBlurImage(image, sigma):\n",
    "    #image = imread(image)\n",
    "    image = Image.open(image)\n",
    "    image = np.asarray(image)\n",
    "    #print(image)\n",
    "    filter_size = 2 * int(4 * sigma + 0.5) + 1\n",
    "    gaussian_filter = np.zeros((filter_size, filter_size), np.float32)\n",
    "    m = filter_size//2\n",
    "    n = filter_size//2\n",
    "    \n",
    "    for x in range(-m, m+1):\n",
    "        for y in range(-n, n+1):\n",
    "            x1 = 2*np.pi*(sigma**2)\n",
    "            x2 = np.exp(-(x**2 + y**2)/(2* sigma**2))\n",
    "            gaussian_filter[x+m, y+n] = (1/x1)*x2\n",
    "    \n",
    "    im_filtered = np.zeros_like(image, dtype=np.float32)\n",
    "    for c in range(3):\n",
    "        im_filtered[:, :, c] = conv(image[:, :, c], gaussian_filter)\n",
    "    return (im_filtered.astype(np.uint8))"
   ]
  },
  {
   "cell_type": "code",
   "execution_count": 8,
   "metadata": {},
   "outputs": [],
   "source": [
    "filtered_image = GaussianBlurImage('lambo.jpg',sigma=1)"
   ]
  },
  {
   "cell_type": "code",
   "execution_count": 9,
   "metadata": {},
   "outputs": [
    {
     "data": {
      "text/plain": [
       "-1"
      ]
     },
     "execution_count": 9,
     "metadata": {},
     "output_type": "execute_result"
    }
   ],
   "source": [
    "cv2.imshow(\"Gaussian\", filtered_image)\n",
    "cv2.waitKey(0)"
   ]
  },
  {
   "cell_type": "code",
   "execution_count": null,
   "metadata": {
    "collapsed": true
   },
   "outputs": [],
   "source": []
  }
 ],
 "metadata": {
  "kernelspec": {
   "display_name": "Python 3",
   "language": "python",
   "name": "python3"
  },
  "language_info": {
   "codemirror_mode": {
    "name": "ipython",
    "version": 3
   },
   "file_extension": ".py",
   "mimetype": "text/x-python",
   "name": "python",
   "nbconvert_exporter": "python",
   "pygments_lexer": "ipython3",
   "version": "3.7.6"
  }
 },
 "nbformat": 4,
 "nbformat_minor": 4
}
